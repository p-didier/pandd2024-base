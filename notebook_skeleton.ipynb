{
 "cells": [
  {
   "attachments": {},
   "cell_type": "markdown",
   "metadata": {},
   "source": [
    "# P&D ISSP 2023 - Base notebook\n",
    "@Students: Edit everything you want!"
   ]
  },
  {
   "attachments": {},
   "cell_type": "markdown",
   "metadata": {},
   "source": [
    "Packages"
   ]
  },
  {
   "cell_type": "code",
   "execution_count": 5,
   "metadata": {},
   "outputs": [],
   "source": [
    "import os\n",
    "import matplotlib\n",
    "import package.general as genfcns\n",
    "import package.gui_utils as guifcns\n",
    "matplotlib.style.use('default')  # <-- for notebooks: white figures background\n",
    "\n",
    "# Root path (path to where you are storing this very notebook)\n",
    "ROOTPATH = 'your/path/to/this/notebook'  #  /!/  Adapt this to your system  /!/ \n",
    "pathToSoundFiles = f'{ROOTPATH}/sound_files/'\n",
    "\n",
    "# Parameters\n",
    "speechfilenames = [\n",
    "    pathToSoundFiles + 'speech1.wav',\n",
    "    pathToSoundFiles + 'speech2.wav'\n",
    "]\n",
    "noisefilenames = [\n",
    "    pathToSoundFiles + 'Babble_noise1.wav'\n",
    "]\n",
    "signalDuration = 10     # [s]\n",
    "muGSC = 0.1     # NLMS update constant for freq.-domain GSC"
   ]
  },
  {
   "attachments": {},
   "cell_type": "markdown",
   "metadata": {},
   "source": [
    "Build acoustic scenario and generate RIRs using GUI"
   ]
  },
  {
   "cell_type": "code",
   "execution_count": 6,
   "metadata": {},
   "outputs": [
    {
     "data": {
      "text/plain": [
       "Acoustic scenario object containing the RIRs, with parameters:\n",
       ">> Field \"audioCoords\": []\n",
       ">> Field \"audioIds\": []\n",
       ">> Field \"c\": 340\n",
       ">> Field \"distBwMics\": 0.1\n",
       ">> Field \"exportFolder\": c:\\Users\\pdidier\\Dropbox\\_BELGIUM\\KUL\\Supervision\\Teaching Assistance\\PandD_ISSP\\2024\\python\\pandd2024-base/rirs\n",
       ">> Field \"fs\": 44100\n",
       ">> Field \"lineIds\": [1, 3, 4, 6, 8, 10, 12, 14, 16, 18, 40, 42, 43, 45, 47, 49, 51, 53, 55, 57, 59, 61]\n",
       ">> Field \"lineTextIds\": [2, 5, 7, 9, 11, 13, 15, 17, 19, 41, 44, 46, 48, 50, 52, 54, 56, 58, 60, 62]\n",
       ">> Field \"micCoords\": []\n",
       ">> Field \"micsCoords\": [[3.375, 2.275], [3.375, 2.375], [3.375, 2.475], [3.375, 2.575], [3.375, 2.6750000000000003], [3.175, 1.55], [3.175, 1.6500000000000001], [3.175, 1.75], [3.175, 1.85], [3.175, 1.9500000000000002]]\n",
       ">> Field \"micsIds\": [30, 31, 32, 33, 34, 35, 36, 37, 38, 39]\n",
       ">> Field \"nMicsPerArray\": 5\n",
       ">> Field \"noiseCoords\": []\n",
       ">> Field \"noiseIds\": []\n",
       ">> Field \"numMics\": 5\n",
       ">> Field \"rirLength\": 22050\n",
       ">> Field \"roomDim\": 5.0\n",
       ">> Field \"t60\": 0.0\n",
       ">> Field \"theme\": SystemDefault"
      ]
     },
     "execution_count": 6,
     "metadata": {},
     "output_type": "execute_result"
    }
   ],
   "source": [
    "# Launch GUI\n",
    "guifcns.RIRg_GUI(\n",
    "    exportFolder=f'{os.getcwd()}/rirs',\n",
    "    outputRIRplot=False,\n",
    "    distBwMics=10,  # [cm]\n",
    "    fs=44100,\n",
    "    t60=0,\n",
    "    theme='SystemDefault',\n",
    ")"
   ]
  },
  {
   "attachments": {},
   "cell_type": "markdown",
   "metadata": {},
   "source": [
    "RIRs selection"
   ]
  },
  {
   "cell_type": "code",
   "execution_count": 3,
   "metadata": {},
   "outputs": [
    {
     "data": {
      "image/png": "[encoded data removed]",
      "text/plain": [
       "<Figure size 850x350 with 1 Axes>"
      ]
     },
     "metadata": {},
     "output_type": "display_data"
    }
   ],
   "source": [
    "# Select RIRs to be used\n",
    "# RIR_FILE = 'rirs/'  # use this to input a specific set of RIRs (full path to .pkl.gz file)\n",
    "RIR_FILE = genfcns.select_latest_rir(path='./rirs/')  # use this to select the lastly generated RIRs\n",
    "# Load from Pickle archive\n",
    "acousticScenario = guifcns.load_rirs(path=RIR_FILE)\n",
    "# Show to user\n",
    "acousticScenario.plot_asc()"
   ]
  },
  {
   "cell_type": "code",
   "execution_count": 4,
   "metadata": {},
   "outputs": [],
   "source": [
    "# ... Up to you, now!"
   ]
  },
  {
   "attachments": {},
   "cell_type": "markdown",
   "metadata": {},
   "source": [
    "# Signal processing - Week 2: MUSIC algorithm"
   ]
  },
  {
   "cell_type": "code",
   "execution_count": 5,
   "metadata": {},
   "outputs": [
    {
     "ename": "AttributeError",
     "evalue": "'NoneType' object has no attribute 'shape'",
     "output_type": "error",
     "traceback": [
      "\u001b[1;31m---------------------------------------------------------------------------\u001b[0m",
      "\u001b[1;31mAttributeError\u001b[0m                            Traceback (most recent call last)",
      "Cell \u001b[1;32mIn[5], line 4\u001b[0m\n\u001b[0;32m      1\u001b[0m \u001b[39mimport\u001b[39;00m \u001b[39mnumpy\u001b[39;00m \u001b[39mas\u001b[39;00m \u001b[39mnp\u001b[39;00m\n\u001b[0;32m      3\u001b[0m winLength \u001b[39m=\u001b[39m \u001b[39m1024\u001b[39m \u001b[39m# Window length\u001b[39;00m\n\u001b[1;32m----> 4\u001b[0m nSources \u001b[39m=\u001b[39m acousticScenario\u001b[39m.\u001b[39;49mRIRsAudio\u001b[39m.\u001b[39;49mshape[\u001b[39m-\u001b[39m\u001b[39m1\u001b[39m] \u001b[39m+\u001b[39m\\\n\u001b[0;32m      5\u001b[0m     acousticScenario\u001b[39m.\u001b[39mRIRsNoise\u001b[39m.\u001b[39mshape[\u001b[39m-\u001b[39m\u001b[39m1\u001b[39m] \u001b[39m# Number of sources\u001b[39;00m\n\u001b[0;32m      6\u001b[0m theta \u001b[39m=\u001b[39m np\u001b[39m.\u001b[39marange(\u001b[39m0\u001b[39m, np\u001b[39m.\u001b[39mpi, step\u001b[39m=\u001b[39mnp\u001b[39m.\u001b[39mpi \u001b[39m/\u001b[39m \u001b[39m360\u001b[39m)  \u001b[39m# angles to consider\u001b[39;00m\n\u001b[0;32m      8\u001b[0m \u001b[39mprint\u001b[39m(\u001b[39m'\u001b[39m\u001b[39mComputing DOAs via freq.-domain MUSIC algorithm...\u001b[39m\u001b[39m'\u001b[39m)\n",
      "\u001b[1;31mAttributeError\u001b[0m: 'NoneType' object has no attribute 'shape'"
     ]
    }
   ],
   "source": [
    "import numpy as np\n",
    "\n",
    "winLength = 1024 # Window length\n",
    "nSources = acousticScenario.RIRsAudio.shape[-1] +\\\n",
    "    acousticScenario.RIRsNoise.shape[-1] # Number of sources\n",
    "theta = np.arange(0, np.pi, step=np.pi / 360)  # angles to consider\n",
    "\n",
    "print('Computing DOAs via freq.-domain MUSIC algorithm...')\n",
    "\n",
    "\n",
    "# DOAestAll = yourMUSIC() ...\n",
    "DOAestAll = np.zeros(nSources)  # default\n",
    "\n",
    "\n",
    "print(f'All estimated DOAs: {DOAestAll * 180/np.pi}')\n",
    "\n",
    "# ------------------ DOA estimation performance check ------------------\n",
    "# Oracle selection of the target DOA\n",
    "DOAest, oracleDOAtalkers = genfcns.oracle_choice_doa(\n",
    "    DOAestAll, acousticScenario\n",
    ")\n",
    "print(f'Oracle-selected estimated DOAs: {DOAest * 180/np.pi}')\n",
    "# Check validity\n",
    "genfcns.check_plot_tdoas(DOAest, DOAestAll, acousticScenario)\n",
    "print(f'Target DOAs estimate error(s): {np.round((DOAest - oracleDOAtalkers) * 180/np.pi, 1)} deg.')"
   ]
  }
 ],
 "metadata": {
  "kernelspec": {
   "display_name": "pandd2023_base",
   "language": "python",
   "name": "python3"
  },
  "language_info": {
   "codemirror_mode": {
    "name": "ipython",
    "version": 3
   },
   "file_extension": ".py",
   "mimetype": "text/x-python",
   "name": "python",
   "nbconvert_exporter": "python",
   "pygments_lexer": "ipython3",
   "version": "3.9.18"
  },
  "orig_nbformat": 4,
  "vscode": {
   "interpreter": {
    "hash": "e7a0ad8b473c8fee078164c22852d857dab644a546a0f5edc20c32d4c16b2526"
   }
  }
 },
 "nbformat": 4,
 "nbformat_minor": 2
}
